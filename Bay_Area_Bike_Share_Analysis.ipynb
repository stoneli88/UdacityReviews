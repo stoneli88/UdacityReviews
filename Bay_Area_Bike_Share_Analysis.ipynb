{
 "cells": [
  {
   "cell_type": "markdown",
   "metadata": {},
   "source": [
    "# 湾区单车共享分析\n",
    "\n",
    "说明：[点此查看此文档的英文版本](https://github.com/udacity/data-analyst/tree/master/projects/bike_sharing)\n",
    "。\n",
    "\n",
    "## 简介\n",
    "\n",
    "> **提示**：诸如此类的引用部分可以为如何导航和使用 iPython notebook 提供有用说明。\n",
    "\n",
    "湾区单车共享系统（[Bay Area Bike Share](http://www.bayareabikeshare.com/)）是一家为旧金山、雷德伍德城、帕罗奥多、芒廷维尤和圣荷西的客户提供按需单车租赁的公司。使用者可在每个城市的各种车站解锁单车，然后在同城内的任何一个车站还车。使用者可通过按年订购或购买 3 日或 24 小时通票来付费。使用者的出行次数无限制，三十分钟内的行程不收取额外费用；更长行程将产生超时费。\n",
    "\n",
    "在此项目中，你将以一名数据分析师的身份执行数据的探索性分析。你将了解数据分析过程的两个重要部分：数据整理和探索性数据分析。但是在你开始查看数据前，先思考几个你需要理解的关于单车共享数据的问题，例如，如果你在 Bay Area Bike Share 工作，你会想要获得什么类型的信息来做出更明智的业务决策？或者你可以思考你是否会成为单车共享服务的使用者。哪些因素可能会影响你使用此服务的方式？\n",
    "\n",
    "**问题 1**：至少写下两个你认为可以用数据来回答的问题。\n",
    "\n",
    "\n",
    "**答案**：\n",
    "\n",
    "1. 什么时间段使用单车的人的数量很大.\n",
    "2. 在不同的时间段, 使用不同出行工具的种类的统计.\n",
    "\n",
    "\n",
    "> **提示**：如果你双击此单元格，你会看到文本发生变化，所有样式均被清除。这将允许你编辑此文本块。此文本块使用 [Markdown](http://daringfireball.net/projects/markdown/syntax) 编写，这是一种使用标题、链接、斜体和许多其他选项为文本添加样式的方式。你将在之后的纳米学位课程中了解关于 Markdown 的更多信息。按 shift + Enter 或 Shift + Return 预览此单元格。"
   ]
  },
  {
   "cell_type": "markdown",
   "metadata": {},
   "source": [
    "## 使用可视化交流数据发现\n",
    "\n",
    "作为一名数据分析师，有效交流发现结果的能力是这项工作的重要部分。毕竟，你的分析能力再高也得通过好的交流能力去传达。\n",
    "\n",
    "在 2014 年，Bay Area Bike Share 举行了一项[开放数据挑战](http://www.bayareabikeshare.com/datachallenge-2014)，以鼓励数据分析师基于他们的开放数据集创建可视化。你将在这个项目中创建自己的可视化，但是首先，请阅读来自 Tyler Field 的[最佳分析提交得主](http://thfield.github.io/babs/index.html)。通读整个报告并回答以下问题：\n",
    "\n",
    "**问题 2**：在你看来，哪种可视化可提供最有趣的见解？你是否能根据 Tyler 的分析回答你在之前提出的任何问题？能或不能的原因是什么？\n",
    "\n",
    "\n",
    "**答案**：\n",
    "1. 一天之中: 上下班的时间段和中午吃饭的时间段使用的人数最多.\n",
    "2. Tyler的分析报告没有写明.\n"
   ]
  },
  {
   "cell_type": "markdown",
   "metadata": {},
   "source": [
    "\n",
    "## 数据整理\n",
    "\n",
    "现在是时候由你自己来探索数据了。Bay Area Bike Share 的[开放数据](http://www.bayareabikeshare.com/open-data)页中第 1 年和第 2 年的数据已提供在项目资料中；你无需下载任何其他信息。此数据由三个部分组成：第 1 年上半年（从 `201402` 开始的文件），第 1 年下半年（从 `201408` 开始的文件），以及第 2 年全年（从 `201508` 开始的文件）。每个部分关联三个主要数据文件：行程数据（展示系统中每个行程的信息）（`*_trip_data.csv`），系统中车站的信息（`*_station_data.csv`），及系统中每个城市的每日天气数据（`*_weather_data.csv`）。\n",
    "\n",
    "在处理大量数据时，最好先从数据样本开始。这样更容易检查我们的数据整理步骤是否有效，因为我们完成代码所需的时间将更少。如果我们对整个过程的进展较为满意，那就可以着手整理整个数据集啦。\n",
    "\n",
    "因为大量的数据包含在行程信息中，我们的目标应该为取行程数据的子集来进行测试。首先我们仅看看第 1 个月的单车行程数据，从 2013 年 8 月 29 日到 2013 年 9 月 30 日。下面的代码会取第一年上半年的数据，然后将第一个月的数据值写在输出文件上。此代码利用了数据按日期排序的事实（尽管需要指出的是，前两天是按行程时间而非按年月顺序排序）。\n",
    "\n",
    "首先，运行下方第一个代码单元格来加载你将在分析中使用的所有数据包和函数。然后，运行第二个代码单元格以读取第一个行程数据文件的子集，然后编写一个新文件，其中仅包含我们初步感兴趣的子集。\n",
    "\n",
    "\n",
    "> **提示**：你可以像格式化 Markdown 单元格那样点击单元格然后使用键盘快捷键 **Shift + Enter** 或 **Shift + Return**，来运行代码单元格。或者，也可以在选中代码单元格后点击工具栏上的 Play 按钮执行它。单元格运行时，你会在单元格左侧的消息中看到一个星号，即 `In [*]:`。在执行完成时，星号将变为一个数字，例如 `In [1]`。如果有输出，将显示 `Out [1]:`，用适当的数字来匹配“In”的数字。\n"
   ]
  },
  {
   "cell_type": "code",
   "execution_count": 1,
   "metadata": {
    "collapsed": false
   },
   "outputs": [],
   "source": [
    "# 导入所有需要的包盒函数\n",
    "\n",
    "import csv\n",
    "from datetime import datetime\n",
    "import numpy as np\n",
    "import pandas as pd\n",
    "from babs_datacheck import question_3\n",
    "from babs_visualizations import usage_stats, usage_plot\n",
    "from IPython.display import display\n",
    "%matplotlib inline"
   ]
  },
  {
   "cell_type": "code",
   "execution_count": 4,
   "metadata": {
    "collapsed": false
   },
   "outputs": [],
   "source": [
    "# 文档地址\n",
    "\n",
    "file_in  = '201402_trip_data.csv'\n",
    "file_out = '201309_trip_data.csv'\n",
    "\n",
    "with open(file_out, 'w') as f_out, open(file_in, 'r') as f_in:\n",
    "    in_reader = csv.reader(f_in)\n",
    "    out_writer = csv.writer(f_out)\n",
    "    \n",
    "    while True:\n",
    "        dataRow = next(in_reader)\n",
    "        if dataRow[2][:9] == '10/1/2013':\n",
    "            break;\n",
    "        out_writer.writerow(dataRow)"
   ]
  },
  {
   "cell_type": "markdown",
   "metadata": {},
   "source": [
    "### 精简行程数据\n",
    "\n",
    "第一步是观察数据集的结构，看看我们是否需要执行任何数据整理。下面的单元格会读取你在之前单元格中创建的抽样数据文件，然后打印出表中的前几行。\n"
   ]
  },
  {
   "cell_type": "code",
   "execution_count": 5,
   "metadata": {
    "collapsed": false
   },
   "outputs": [
    {
     "data": {
      "text/html": [
       "<div>\n",
       "<table border=\"1\" class=\"dataframe\">\n",
       "  <thead>\n",
       "    <tr style=\"text-align: right;\">\n",
       "      <th></th>\n",
       "      <th>Trip ID</th>\n",
       "      <th>Duration</th>\n",
       "      <th>Start Date</th>\n",
       "      <th>Start Station</th>\n",
       "      <th>Start Terminal</th>\n",
       "      <th>End Date</th>\n",
       "      <th>End Station</th>\n",
       "      <th>End Terminal</th>\n",
       "      <th>Bike #</th>\n",
       "      <th>Subscription Type</th>\n",
       "      <th>Zip Code</th>\n",
       "    </tr>\n",
       "  </thead>\n",
       "  <tbody>\n",
       "    <tr>\n",
       "      <th>0</th>\n",
       "      <td>4576</td>\n",
       "      <td>63</td>\n",
       "      <td>8/29/2013 14:13</td>\n",
       "      <td>South Van Ness at Market</td>\n",
       "      <td>66</td>\n",
       "      <td>8/29/2013 14:14</td>\n",
       "      <td>South Van Ness at Market</td>\n",
       "      <td>66</td>\n",
       "      <td>520</td>\n",
       "      <td>Subscriber</td>\n",
       "      <td>94127</td>\n",
       "    </tr>\n",
       "    <tr>\n",
       "      <th>1</th>\n",
       "      <td>4607</td>\n",
       "      <td>70</td>\n",
       "      <td>8/29/2013 14:42</td>\n",
       "      <td>San Jose City Hall</td>\n",
       "      <td>10</td>\n",
       "      <td>8/29/2013 14:43</td>\n",
       "      <td>San Jose City Hall</td>\n",
       "      <td>10</td>\n",
       "      <td>661</td>\n",
       "      <td>Subscriber</td>\n",
       "      <td>95138</td>\n",
       "    </tr>\n",
       "    <tr>\n",
       "      <th>2</th>\n",
       "      <td>4130</td>\n",
       "      <td>71</td>\n",
       "      <td>8/29/2013 10:16</td>\n",
       "      <td>Mountain View City Hall</td>\n",
       "      <td>27</td>\n",
       "      <td>8/29/2013 10:17</td>\n",
       "      <td>Mountain View City Hall</td>\n",
       "      <td>27</td>\n",
       "      <td>48</td>\n",
       "      <td>Subscriber</td>\n",
       "      <td>97214</td>\n",
       "    </tr>\n",
       "    <tr>\n",
       "      <th>3</th>\n",
       "      <td>4251</td>\n",
       "      <td>77</td>\n",
       "      <td>8/29/2013 11:29</td>\n",
       "      <td>San Jose City Hall</td>\n",
       "      <td>10</td>\n",
       "      <td>8/29/2013 11:30</td>\n",
       "      <td>San Jose City Hall</td>\n",
       "      <td>10</td>\n",
       "      <td>26</td>\n",
       "      <td>Subscriber</td>\n",
       "      <td>95060</td>\n",
       "    </tr>\n",
       "    <tr>\n",
       "      <th>4</th>\n",
       "      <td>4299</td>\n",
       "      <td>83</td>\n",
       "      <td>8/29/2013 12:02</td>\n",
       "      <td>South Van Ness at Market</td>\n",
       "      <td>66</td>\n",
       "      <td>8/29/2013 12:04</td>\n",
       "      <td>Market at 10th</td>\n",
       "      <td>67</td>\n",
       "      <td>319</td>\n",
       "      <td>Subscriber</td>\n",
       "      <td>94103</td>\n",
       "    </tr>\n",
       "  </tbody>\n",
       "</table>\n",
       "</div>"
      ],
      "text/plain": [
       "   Trip ID  Duration       Start Date             Start Station  \\\n",
       "0     4576        63  8/29/2013 14:13  South Van Ness at Market   \n",
       "1     4607        70  8/29/2013 14:42        San Jose City Hall   \n",
       "2     4130        71  8/29/2013 10:16   Mountain View City Hall   \n",
       "3     4251        77  8/29/2013 11:29        San Jose City Hall   \n",
       "4     4299        83  8/29/2013 12:02  South Van Ness at Market   \n",
       "\n",
       "   Start Terminal         End Date               End Station  End Terminal  \\\n",
       "0              66  8/29/2013 14:14  South Van Ness at Market            66   \n",
       "1              10  8/29/2013 14:43        San Jose City Hall            10   \n",
       "2              27  8/29/2013 10:17   Mountain View City Hall            27   \n",
       "3              10  8/29/2013 11:30        San Jose City Hall            10   \n",
       "4              66  8/29/2013 12:04            Market at 10th            67   \n",
       "\n",
       "   Bike # Subscription Type Zip Code  \n",
       "0     520        Subscriber    94127  \n",
       "1     661        Subscriber    95138  \n",
       "2      48        Subscriber    97214  \n",
       "3      26        Subscriber    95060  \n",
       "4     319        Subscriber    94103  "
      ]
     },
     "metadata": {},
     "output_type": "display_data"
    }
   ],
   "source": [
    "sample_data = pd.read_csv('201309_trip_data.csv')\n",
    "\n",
    "display(sample_data.head())"
   ]
  },
  {
   "cell_type": "markdown",
   "metadata": {},
   "source": [
    "在这个探索环节，我们将精简出影响出行次数的行程数据中的因素。首先将注意力放在几个选定列：行程持续时间、开始时间、起始车站、终止车站及订购类型。开始时间将分为年、月和小时部分。我们将添加一列作为星期几，并将起始车站和终止车站转变为起始和终止城市。\n",
    "\n",
    "现在我们来解决整理过程的最后部分。运行下面的代码单元格，看看车站信息的结构，然后观察代码将如何创建车站城市映射。注意车站映射设立为一个函数 `create_station_mapping()`。因为可随时间推移可添加更多车站或进行删除，在我们准备好开始探索时，此函数将允许我们在数据的所有三个部分结合车站信息。\n"
   ]
  },
  {
   "cell_type": "code",
   "execution_count": 6,
   "metadata": {
    "collapsed": false
   },
   "outputs": [
    {
     "data": {
      "text/html": [
       "<div>\n",
       "<table border=\"1\" class=\"dataframe\">\n",
       "  <thead>\n",
       "    <tr style=\"text-align: right;\">\n",
       "      <th></th>\n",
       "      <th>station_id</th>\n",
       "      <th>name</th>\n",
       "      <th>lat</th>\n",
       "      <th>long</th>\n",
       "      <th>dockcount</th>\n",
       "      <th>landmark</th>\n",
       "      <th>installation</th>\n",
       "    </tr>\n",
       "  </thead>\n",
       "  <tbody>\n",
       "    <tr>\n",
       "      <th>0</th>\n",
       "      <td>2</td>\n",
       "      <td>San Jose Diridon Caltrain Station</td>\n",
       "      <td>37.329732</td>\n",
       "      <td>-121.901782</td>\n",
       "      <td>27</td>\n",
       "      <td>San Jose</td>\n",
       "      <td>8/6/2013</td>\n",
       "    </tr>\n",
       "    <tr>\n",
       "      <th>1</th>\n",
       "      <td>3</td>\n",
       "      <td>San Jose Civic Center</td>\n",
       "      <td>37.330698</td>\n",
       "      <td>-121.888979</td>\n",
       "      <td>15</td>\n",
       "      <td>San Jose</td>\n",
       "      <td>8/5/2013</td>\n",
       "    </tr>\n",
       "    <tr>\n",
       "      <th>2</th>\n",
       "      <td>4</td>\n",
       "      <td>Santa Clara at Almaden</td>\n",
       "      <td>37.333988</td>\n",
       "      <td>-121.894902</td>\n",
       "      <td>11</td>\n",
       "      <td>San Jose</td>\n",
       "      <td>8/6/2013</td>\n",
       "    </tr>\n",
       "    <tr>\n",
       "      <th>3</th>\n",
       "      <td>5</td>\n",
       "      <td>Adobe on Almaden</td>\n",
       "      <td>37.331415</td>\n",
       "      <td>-121.893200</td>\n",
       "      <td>19</td>\n",
       "      <td>San Jose</td>\n",
       "      <td>8/5/2013</td>\n",
       "    </tr>\n",
       "    <tr>\n",
       "      <th>4</th>\n",
       "      <td>6</td>\n",
       "      <td>San Pedro Square</td>\n",
       "      <td>37.336721</td>\n",
       "      <td>-121.894074</td>\n",
       "      <td>15</td>\n",
       "      <td>San Jose</td>\n",
       "      <td>8/7/2013</td>\n",
       "    </tr>\n",
       "  </tbody>\n",
       "</table>\n",
       "</div>"
      ],
      "text/plain": [
       "   station_id                               name        lat        long  \\\n",
       "0           2  San Jose Diridon Caltrain Station  37.329732 -121.901782   \n",
       "1           3              San Jose Civic Center  37.330698 -121.888979   \n",
       "2           4             Santa Clara at Almaden  37.333988 -121.894902   \n",
       "3           5                   Adobe on Almaden  37.331415 -121.893200   \n",
       "4           6                   San Pedro Square  37.336721 -121.894074   \n",
       "\n",
       "   dockcount  landmark installation  \n",
       "0         27  San Jose     8/6/2013  \n",
       "1         15  San Jose     8/5/2013  \n",
       "2         11  San Jose     8/6/2013  \n",
       "3         19  San Jose     8/5/2013  \n",
       "4         15  San Jose     8/7/2013  "
      ]
     },
     "metadata": {},
     "output_type": "display_data"
    }
   ],
   "source": [
    "# 显示车站数据文档的前几行数据。\n",
    "station_info = pd.read_csv('201402_station_data.csv')\n",
    "display(station_info.head())\n",
    "\n",
    "# 这个函数会稍后被另一个函数调用，以创建映射。\n",
    "def create_station_mapping(station_data):\n",
    "    \"\"\"\n",
    "    Create a mapping from station IDs to cities, returning the\n",
    "    result as a dictionary.\n",
    "    \"\"\"\n",
    "    station_map = {}\n",
    "    for data_file in station_data:\n",
    "        with open(data_file, 'r') as f_in:\n",
    "            # 设置 csv 读取对象 - 注意，我们使用的是 DictReader，他会将\n",
    "            # 文档第一行作为表头，即每一行的字典键值\n",
    "            weather_reader = csv.DictReader(f_in)\n",
    "\n",
    "            for row in weather_reader:\n",
    "                station_map[row['station_id']] = row['landmark']\n",
    "    return station_map"
   ]
  },
  {
   "cell_type": "markdown",
   "metadata": {},
   "source": [
    "现在你可以使用映射到来精简行程数据到上述选定列。这将在下面的 `summarise_data()` 函数中执行。作为此函数的部分，将使用 `datetime` 模块从原始数据文件解析作为 `datetime` 对象 (`strptime`) 的时间戳字符串，该字符串可随后输出为不同的字符串格式 (`strftime`)。解析的对象也有很多属性和方法来快速获取\n",
    "\n",
    "要完成 `summarise_data()` 函数，你将需要先完成两个任务。首先，你需要执行一个运算将行程持续时间的单位从秒转化为分钟。（一分钟为 60 秒）。第二，你需要为年、月、小时和星期几创建列。你可参阅 [datetime 模块中的 datetime 对象文档](https://docs.python.org/2/library/datetime.html#datetime-objects)。**请找到合适的属性和方法来完成下面的代码**。\n"
   ]
  },
  {
   "cell_type": "code",
   "execution_count": 7,
   "metadata": {
    "collapsed": false
   },
   "outputs": [],
   "source": [
    "def summarise_data(trip_in, station_data, trip_out):\n",
    "    \"\"\"\n",
    "    This function takes trip and station information and outputs a new\n",
    "    data file with a condensed summary of major trip information. The\n",
    "    trip_in and station_data arguments will be lists of data files for\n",
    "    the trip and station information, respectively, while trip_out\n",
    "    specifies the location to which the summarized data will be written.\n",
    "    \"\"\"\n",
    "    # 生成车站字典 - 城市映射\n",
    "    station_map = create_station_mapping(station_data)\n",
    "    \n",
    "    with open(trip_out, 'w') as f_out:\n",
    "        # 设置 csv 写入对象       \n",
    "        out_colnames = ['duration', 'start_date', 'start_year',\n",
    "                        'start_month', 'start_hour', 'weekday',\n",
    "                        'start_city', 'end_city', 'subscription_type']        \n",
    "        trip_writer = csv.DictWriter(f_out, fieldnames = out_colnames)\n",
    "        trip_writer.writeheader()\n",
    "        \n",
    "        for data_file in trip_in:\n",
    "            with open(data_file, 'r') as f_in:\n",
    "                # 设置 csv 读取对象\n",
    "                trip_reader = csv.DictReader(f_in)\n",
    "\n",
    "                # 从每行数据中收集和处理\n",
    "                for row in trip_reader:\n",
    "                    new_point = {}\n",
    "                    \n",
    "                    # 转换持续时间单位：从秒到分\n",
    "                    ### 问题 3a: 在下方加入数学运算   ###\n",
    "                    ### 将持续时间从秒转换为分       ###\n",
    "                    new_point['duration'] = float(row['Duration']) / 60\n",
    "                    \n",
    "                    # 将 datestrings 存储进不同的列 \n",
    "                    ### 问题 3b: 在下方空格中填入以生成 ###\n",
    "                    ### 预期的时间值                 ###\n",
    "                    trip_date = datetime.strptime(row['Start Date'], '%m/%d/%Y %H:%M')\n",
    "                    new_point['start_date']  = trip_date.strftime('%Y-%m-%d')\n",
    "                    new_point['start_year']  = trip_date.strftime('%Y')\n",
    "                    new_point['start_month'] = trip_date.strftime('%m')\n",
    "                    new_point['start_hour']  = trip_date.strftime('%H')\n",
    "                    new_point['weekday']     = trip_date.strftime('%A')\n",
    "                    \n",
    "                    # 基于起始城市重新映射起始站点\n",
    "                    new_point['start_city'] = station_map[row['Start Terminal']]\n",
    "                    new_point['end_city'] = station_map[row['End Terminal']]\n",
    "                    # 定阅者的两个不同列名称\n",
    "                    if 'Subscription Type' in row:\n",
    "                        new_point['subscription_type'] = row['Subscription Type']\n",
    "                    else:\n",
    "                        new_point['subscription_type'] = row['Subscriber Type']\n",
    "\n",
    "                    # 导出处理完成的信息\n",
    "                    trip_writer.writerow(new_point)"
   ]
  },
  {
   "cell_type": "markdown",
   "metadata": {},
   "source": [
    "**问题 3**：运行下面的代码块以调用你在上文单元格中完成的 `summarise_data()` 函数。它会提取 `trip_in` 和 `station_data` 变量中所列文件包含的数据，然后在 `trip_out` 变量中指定的位置编写新的文件。如果你正确执行了数据整理，下面的代码块会打印出 `dataframe` 的前几行，并显示一条消息确认数据点计数是正确的。\n",
    "\n"
   ]
  },
  {
   "cell_type": "code",
   "execution_count": 8,
   "metadata": {
    "collapsed": false
   },
   "outputs": [
    {
     "data": {
      "text/html": [
       "<div>\n",
       "<table border=\"1\" class=\"dataframe\">\n",
       "  <thead>\n",
       "    <tr style=\"text-align: right;\">\n",
       "      <th></th>\n",
       "      <th>duration</th>\n",
       "      <th>start_date</th>\n",
       "      <th>start_year</th>\n",
       "      <th>start_month</th>\n",
       "      <th>start_hour</th>\n",
       "      <th>weekday</th>\n",
       "      <th>start_city</th>\n",
       "      <th>end_city</th>\n",
       "      <th>subscription_type</th>\n",
       "    </tr>\n",
       "  </thead>\n",
       "  <tbody>\n",
       "    <tr>\n",
       "      <th>0</th>\n",
       "      <td>1.050000</td>\n",
       "      <td>2013-08-29</td>\n",
       "      <td>2013</td>\n",
       "      <td>8</td>\n",
       "      <td>14</td>\n",
       "      <td>Thursday</td>\n",
       "      <td>San Francisco</td>\n",
       "      <td>San Francisco</td>\n",
       "      <td>Subscriber</td>\n",
       "    </tr>\n",
       "    <tr>\n",
       "      <th>1</th>\n",
       "      <td>1.166667</td>\n",
       "      <td>2013-08-29</td>\n",
       "      <td>2013</td>\n",
       "      <td>8</td>\n",
       "      <td>14</td>\n",
       "      <td>Thursday</td>\n",
       "      <td>San Jose</td>\n",
       "      <td>San Jose</td>\n",
       "      <td>Subscriber</td>\n",
       "    </tr>\n",
       "    <tr>\n",
       "      <th>2</th>\n",
       "      <td>1.183333</td>\n",
       "      <td>2013-08-29</td>\n",
       "      <td>2013</td>\n",
       "      <td>8</td>\n",
       "      <td>10</td>\n",
       "      <td>Thursday</td>\n",
       "      <td>Mountain View</td>\n",
       "      <td>Mountain View</td>\n",
       "      <td>Subscriber</td>\n",
       "    </tr>\n",
       "    <tr>\n",
       "      <th>3</th>\n",
       "      <td>1.283333</td>\n",
       "      <td>2013-08-29</td>\n",
       "      <td>2013</td>\n",
       "      <td>8</td>\n",
       "      <td>11</td>\n",
       "      <td>Thursday</td>\n",
       "      <td>San Jose</td>\n",
       "      <td>San Jose</td>\n",
       "      <td>Subscriber</td>\n",
       "    </tr>\n",
       "    <tr>\n",
       "      <th>4</th>\n",
       "      <td>1.383333</td>\n",
       "      <td>2013-08-29</td>\n",
       "      <td>2013</td>\n",
       "      <td>8</td>\n",
       "      <td>12</td>\n",
       "      <td>Thursday</td>\n",
       "      <td>San Francisco</td>\n",
       "      <td>San Francisco</td>\n",
       "      <td>Subscriber</td>\n",
       "    </tr>\n",
       "  </tbody>\n",
       "</table>\n",
       "</div>"
      ],
      "text/plain": [
       "   duration  start_date  start_year  start_month  start_hour   weekday  \\\n",
       "0  1.050000  2013-08-29        2013            8          14  Thursday   \n",
       "1  1.166667  2013-08-29        2013            8          14  Thursday   \n",
       "2  1.183333  2013-08-29        2013            8          10  Thursday   \n",
       "3  1.283333  2013-08-29        2013            8          11  Thursday   \n",
       "4  1.383333  2013-08-29        2013            8          12  Thursday   \n",
       "\n",
       "      start_city       end_city subscription_type  \n",
       "0  San Francisco  San Francisco        Subscriber  \n",
       "1       San Jose       San Jose        Subscriber  \n",
       "2  Mountain View  Mountain View        Subscriber  \n",
       "3       San Jose       San Jose        Subscriber  \n",
       "4  San Francisco  San Francisco        Subscriber  "
      ]
     },
     "metadata": {},
     "output_type": "display_data"
    },
    {
     "name": "stdout",
     "output_type": "stream",
     "text": [
      "All counts are as expected!\n"
     ]
    }
   ],
   "source": [
    "# 运行我们上面写的程序来处理数据\n",
    "station_data = ['201402_station_data.csv']\n",
    "trip_in = ['201309_trip_data.csv']\n",
    "trip_out = '201309_trip_summary.csv'\n",
    "summarise_data(trip_in, station_data, trip_out)\n",
    "\n",
    "# 载入数据文件并打印开头几行\n",
    "sample_data = pd.read_csv(trip_out)\n",
    "display(sample_data.head())\n",
    "\n",
    "# 通过统计匹配不同时间特征的数据点来验证 dataframe \n",
    "question_3(sample_data)"
   ]
  },
  {
   "cell_type": "markdown",
   "metadata": {},
   "source": [
    "> **提示**：如果你保存了 jupyter Notebook，运行数据块的输出也将被保存。但是，你的工作空间的状态会在每次开启新会话时重置。请确保你从之前的会话中运行了所有必要的代码块，以在继续上次中断的工作前重建变量和函数。\n",
    "\n",
    "## 探索性数据分析\n",
    "\n",
    "现在你已在一个文件中保存了一些数据，那么我们来看看数据的某些初步趋势。`babs_visualizations.py` 脚本中已编写了一些代码，用来帮助你汇总和可视化数据；它们已导出为函数 `usage_stats()` 和 `usage_plot()`。在此部分，我们将了解这些函数的一些用途，你将在项目的最后部分自行使用这些函数。首先，运行以下单元格来加载数据，然后使用 `usage_stats()` 函数查看该服务运营的第一个月的总行程数，以及关于行程持续时间的一些统计数据。\n"
   ]
  },
  {
   "cell_type": "code",
   "execution_count": 9,
   "metadata": {
    "collapsed": false
   },
   "outputs": [
    {
     "name": "stdout",
     "output_type": "stream",
     "text": [
      "There are 27345 data points in the dataset.\n",
      "The average duration of trips is 27.60 minutes.\n",
      "The median trip duration is 10.72 minutes.\n",
      "25% of trips are shorter than 6.82 minutes.\n",
      "25% of trips are longer than 17.28 minutes.\n"
     ]
    },
    {
     "data": {
      "text/plain": [
       "array([  6.81666667,  10.71666667,  17.28333333])"
      ]
     },
     "execution_count": 9,
     "metadata": {},
     "output_type": "execute_result"
    }
   ],
   "source": [
    "trip_data = pd.read_csv('201309_trip_summary.csv')\n",
    "\n",
    "usage_stats(trip_data)"
   ]
  },
  {
   "cell_type": "markdown",
   "metadata": {},
   "source": [
    "你会看到第一个月共有超过 27,000 次行程，且平均行程持续时间大于行程持续时间中值（即 50% 的行程短于它，而 50% 的行程长于它的点）。事实上，平均值大于 75% 的最短持续时间。这个现象非常有意思，我们稍后再看。\n",
    "\n",
    "首先我们来看看这些行程如何按订购类型区分。要对数据进行直观的了解，一个简单的方式是将它绘制成图。为此我们将使用 `usage_plot()` 函数。这个函数的第二个参数允许我们算出选定变量的行程的总数，在一个图中显示信息。下面的表达式将展示共有多少客户和订购者行程。现在就来试试吧！\n"
   ]
  },
  {
   "cell_type": "code",
   "execution_count": 10,
   "metadata": {
    "collapsed": false
   },
   "outputs": [
    {
     "data": {
      "image/png": "[encoded data removed]",
      "text/plain": [
       "<matplotlib.figure.Figure at 0x118cb2710>"
      ]
     },
     "metadata": {},
     "output_type": "display_data"
    }
   ],
   "source": [
    "usage_plot(trip_data, 'subscription_type')"
   ]
  },
  {
   "cell_type": "markdown",
   "metadata": {},
   "source": [
    "看起来在第一个月，订购者的行程比客户的行程多大约 50%。现在我们来尝试一个不同的变量。来看看行程的持续时间状况如何？\n"
   ]
  },
  {
   "cell_type": "code",
   "execution_count": 11,
   "metadata": {
    "collapsed": false
   },
   "outputs": [
    {
     "data": {
      "image/png": "[encoded data removed]",
      "text/plain": [
       "<matplotlib.figure.Figure at 0x1176ecb50>"
      ]
     },
     "metadata": {},
     "output_type": "display_data"
    }
   ],
   "source": [
    "usage_plot(trip_data, 'duration')"
   ]
  },
  {
   "cell_type": "markdown",
   "metadata": {},
   "source": [
    "看起来挺奇怪的，不是吗？看看 x 轴的持续时间值。大多数骑行时间都是 30 分钟或更少，因为单个行程的额外时间要收取超时费。第一个柱子跨度显示的持续时间达到了约 1000 分钟，或超过 16 个小时。根据我们从 `usage_stats()` 获得的统计数据，某些行程的持续时间非常长，导致平均值远远高于中值：这个图的效果非常夸张，对我们用处不大。\n",
    "\n",
    "在探索数据时，你经常需要使用可视化函数参数来使数据更易于理解。这里就要用到 `usage_plot()` 函数的第三个参数。可为数据点设置过滤器，作为一系列条件。首先我们限制为不足 60 分钟的行程。\n"
   ]
  },
  {
   "cell_type": "code",
   "execution_count": 12,
   "metadata": {
    "collapsed": false
   },
   "outputs": [
    {
     "data": {
      "image/png": "[encoded data removed]",
      "text/plain": [
       "<matplotlib.figure.Figure at 0x118040950>"
      ]
     },
     "metadata": {},
     "output_type": "display_data"
    }
   ],
   "source": [
    "usage_plot(trip_data, 'duration', ['duration < 60'])"
   ]
  },
  {
   "cell_type": "markdown",
   "metadata": {},
   "source": [
    "\n",
    "这样看起来就好多啦！你可以看到大多数行程实际上持续时间都不足 30 分钟，但你还可以通过其他方法来使展示效果更好。因为最短持续时间非 0，左侧的柱子稍高于 0。我们想要找到 30 分钟的明确边界，这样如果一些柱子尺寸和边界对应某些分钟点时，图上就看起来清晰多了。好消息是你可以使用可选的“boundary”和“bin_width”参数调整图。通过将“boundary”设置为 0，其中一个柱边界（这里为最左侧的柱子）将从 0 开始，而不是最短行程持续时间。以及通过将“bin_width”设为 5，每个柱子将以 5 分钟时间间隔总计时间点。\n"
   ]
  },
  {
   "cell_type": "code",
   "execution_count": 13,
   "metadata": {
    "collapsed": false
   },
   "outputs": [
    {
     "data": {
      "image/png": "[encoded data removed]",
      "text/plain": [
       "<matplotlib.figure.Figure at 0x1180408d0>"
      ]
     },
     "metadata": {},
     "output_type": "display_data"
    }
   ],
   "source": [
    "usage_plot(trip_data, 'duration', ['duration < 60'], boundary = 0, bin_width = 5)"
   ]
  },
  {
   "cell_type": "markdown",
   "metadata": {},
   "source": [
    "**问题 4**：哪个 5 分钟行程持续时间显示了最多的出行次数？这个范围内大约有多少次出行？\n",
    "\n",
    "**答案**：5-10分钟这个持续时间显示了最多的出行次数, 这个范围大约有8600多次出行."
   ]
  },
  {
   "cell_type": "markdown",
   "metadata": {
    "collapsed": true
   },
   "source": [
    "像这样的视觉调整虽然较小，但是却对你理解数据和向他人传达你的发现大有帮助。\n",
    "\n",
    "## 自己执行分析\n",
    "\n",
    "现在你已使用数据集的小样本完成了一些探索，是时候更进一步，将所有数据整理到一个文件中并看看你能发现什么趋势。下面的代码将使用与之前一样的 `summarise_data()` 函数来处理数据。在运行下面的单元格后，你便将所有的数据处理到了一个数据文件中。注意该函数在运行时不会显示任何输出，而且要花费较长的时间才能完成，因为你现在使用的数据比之前的样本数据多。\n"
   ]
  },
  {
   "cell_type": "code",
   "execution_count": 14,
   "metadata": {
    "collapsed": false
   },
   "outputs": [],
   "source": [
    "station_data = ['201402_station_data.csv',\n",
    "                '201408_station_data.csv',\n",
    "                '201508_station_data.csv' ]\n",
    "trip_in = ['201402_trip_data.csv',\n",
    "           '201408_trip_data.csv',\n",
    "           '201508_trip_data.csv' ]\n",
    "trip_out = 'babs_y1_y2_summary.csv'\n",
    "\n",
    "# 该程序将输入站点和行程信息并将新数据输出至指定文件\n",
    "summarise_data(trip_in, station_data, trip_out)"
   ]
  },
  {
   "cell_type": "markdown",
   "metadata": {},
   "source": [
    "由于 `summarise_data()` 函数已创建了一个独立文件，因此无需再次运行上面的单元格，即使你关掉 notebook 并开启一个新会话。你可以直接在数据集中加载，然后从那里进行探索。\n"
   ]
  },
  {
   "cell_type": "code",
   "execution_count": 15,
   "metadata": {
    "collapsed": false
   },
   "outputs": [
    {
     "data": {
      "text/html": [
       "<div>\n",
       "<table border=\"1\" class=\"dataframe\">\n",
       "  <thead>\n",
       "    <tr style=\"text-align: right;\">\n",
       "      <th></th>\n",
       "      <th>duration</th>\n",
       "      <th>start_date</th>\n",
       "      <th>start_year</th>\n",
       "      <th>start_month</th>\n",
       "      <th>start_hour</th>\n",
       "      <th>weekday</th>\n",
       "      <th>start_city</th>\n",
       "      <th>end_city</th>\n",
       "      <th>subscription_type</th>\n",
       "    </tr>\n",
       "  </thead>\n",
       "  <tbody>\n",
       "    <tr>\n",
       "      <th>0</th>\n",
       "      <td>1.050000</td>\n",
       "      <td>2013-08-29</td>\n",
       "      <td>2013</td>\n",
       "      <td>8</td>\n",
       "      <td>14</td>\n",
       "      <td>Thursday</td>\n",
       "      <td>San Francisco</td>\n",
       "      <td>San Francisco</td>\n",
       "      <td>Subscriber</td>\n",
       "    </tr>\n",
       "    <tr>\n",
       "      <th>1</th>\n",
       "      <td>1.166667</td>\n",
       "      <td>2013-08-29</td>\n",
       "      <td>2013</td>\n",
       "      <td>8</td>\n",
       "      <td>14</td>\n",
       "      <td>Thursday</td>\n",
       "      <td>San Jose</td>\n",
       "      <td>San Jose</td>\n",
       "      <td>Subscriber</td>\n",
       "    </tr>\n",
       "    <tr>\n",
       "      <th>2</th>\n",
       "      <td>1.183333</td>\n",
       "      <td>2013-08-29</td>\n",
       "      <td>2013</td>\n",
       "      <td>8</td>\n",
       "      <td>10</td>\n",
       "      <td>Thursday</td>\n",
       "      <td>Mountain View</td>\n",
       "      <td>Mountain View</td>\n",
       "      <td>Subscriber</td>\n",
       "    </tr>\n",
       "    <tr>\n",
       "      <th>3</th>\n",
       "      <td>1.283333</td>\n",
       "      <td>2013-08-29</td>\n",
       "      <td>2013</td>\n",
       "      <td>8</td>\n",
       "      <td>11</td>\n",
       "      <td>Thursday</td>\n",
       "      <td>San Jose</td>\n",
       "      <td>San Jose</td>\n",
       "      <td>Subscriber</td>\n",
       "    </tr>\n",
       "    <tr>\n",
       "      <th>4</th>\n",
       "      <td>1.383333</td>\n",
       "      <td>2013-08-29</td>\n",
       "      <td>2013</td>\n",
       "      <td>8</td>\n",
       "      <td>12</td>\n",
       "      <td>Thursday</td>\n",
       "      <td>San Francisco</td>\n",
       "      <td>San Francisco</td>\n",
       "      <td>Subscriber</td>\n",
       "    </tr>\n",
       "  </tbody>\n",
       "</table>\n",
       "</div>"
      ],
      "text/plain": [
       "   duration  start_date  start_year  start_month  start_hour   weekday  \\\n",
       "0  1.050000  2013-08-29        2013            8          14  Thursday   \n",
       "1  1.166667  2013-08-29        2013            8          14  Thursday   \n",
       "2  1.183333  2013-08-29        2013            8          10  Thursday   \n",
       "3  1.283333  2013-08-29        2013            8          11  Thursday   \n",
       "4  1.383333  2013-08-29        2013            8          12  Thursday   \n",
       "\n",
       "      start_city       end_city subscription_type  \n",
       "0  San Francisco  San Francisco        Subscriber  \n",
       "1       San Jose       San Jose        Subscriber  \n",
       "2  Mountain View  Mountain View        Subscriber  \n",
       "3       San Jose       San Jose        Subscriber  \n",
       "4  San Francisco  San Francisco        Subscriber  "
      ]
     },
     "metadata": {},
     "output_type": "display_data"
    }
   ],
   "source": [
    "trip_data = pd.read_csv('babs_y1_y2_summary.csv')\n",
    "display(trip_data.head())"
   ]
  },
  {
   "cell_type": "markdown",
   "metadata": {},
   "source": [
    "#### 现在轮到你自己使用 `usage_stats()` 和 `usage_plot()` 探索新数据集，并报告你的发现了！下面是如何使用 `usage_plot()` 函数的一些提示：\n",
    "\n",
    "\n",
    "- 第一个参数（必须）：加载的 dataframe，将从这里分析数据。\n",
    "- 第二个参数（必须）：区分出行次数的变量。\n",
    "\n",
    "- 第三个参数（可选）：数据过滤器，限制将计数的数据点。过滤器应作为一系列条件提供，每个元素应该为采用以下格式的一个字符串：`'<field> <op> <value>'`，使用以下任意一个运算符：>、<、>=、<=、==、!=。数据点必须满足所有条件才能计算在内或可视化。例如，`[\"duration < 15\", \"start_city == 'San Francisco'\"]` 仅保留起始点为旧金山，且持续时间不足 15 分钟的行程。\n",
    "\n",
    "\n",
    "如果数据在数值变量上进行拆分（从而创建一个直方图），可使用关键字设置一些附加参数。\n",
    "\n",
    "- \"n_bins\" 指定成果图中柱子的数量（默认为 10 条）。\n",
    "- \"bin_width\" 指定每个柱子的宽（默认为用数据范围除以柱子的数量）。\"n_bins\" 和 \"bin_width\" 不可同时使用。\n",
    "- \"boundary\" 指定一个柱边界的位置；另一个柱边界将放在那个值的附近（这可能导致绘制多余的柱子）。此参数可以与 \"n_bins\" 和 \"bin_width\" 参数一起使用。\n",
    "\n",
    "\n",
    "你也可以对 `usage_stats()` 函数添加一些自定义。该函数的第二个参数可用于设置过滤器条件，如同用 `usage_plot()` 设置一样。\n"
   ]
  },
  {
   "cell_type": "code",
   "execution_count": 47,
   "metadata": {
    "collapsed": false
   },
   "outputs": [
    {
     "name": "stdout",
     "output_type": "stream",
     "text": [
      "There are 16613 data points (2.48%) matching the filter criteria.\n",
      "The average duration of trips is 7.69 minutes.\n",
      "The median trip duration is 7.37 minutes.\n",
      "25% of trips are shorter than 5.10 minutes.\n",
      "25% of trips are longer than 10.13 minutes.\n"
     ]
    },
    {
     "data": {
      "text/plain": [
       "array([  5.1       ,   7.36666667,  10.13333333])"
      ]
     },
     "execution_count": 47,
     "metadata": {},
     "output_type": "execute_result"
    }
   ],
   "source": [
    "usage_stats(trip_data, [\"duration < 15\", \"start_city == 'San Francisco'\", \"start_hour > 20\"])"
   ]
  },
  {
   "cell_type": "code",
   "execution_count": 26,
   "metadata": {
    "collapsed": false
   },
   "outputs": [
    {
     "name": "stdout",
     "output_type": "stream",
     "text": [
      "There are 2820 data points (0.42%) matching the filter criteria.\n",
      "The average duration of trips is 54.29 minutes.\n",
      "The median trip duration is 11.12 minutes.\n",
      "25% of trips are shorter than 6.50 minutes.\n",
      "25% of trips are longer than 23.44 minutes.\n"
     ]
    },
    {
     "data": {
      "text/plain": [
       "array([  6.5       ,  11.11666667,  23.44166667])"
      ]
     },
     "execution_count": 26,
     "metadata": {},
     "output_type": "execute_result"
    }
   ],
   "source": [
    "usage_stats(trip_data, [\"weekday == 'Sunday'\", \"start_city == 'San Jose'\"])"
   ]
  },
  {
   "cell_type": "code",
   "execution_count": 42,
   "metadata": {
    "collapsed": false
   },
   "outputs": [
    {
     "data": {
      "image/png": "[encoded data removed]",
      "text/plain": [
       "<matplotlib.figure.Figure at 0x117c498d0>"
      ]
     },
     "metadata": {},
     "output_type": "display_data"
    }
   ],
   "source": [
    "usage_plot(trip_data, 'duration', ['duration < 60', \"start_city == 'San Francisco'\", \"start_hour > 20\"], boundary = 0, bin_width = 5)"
   ]
  },
  {
   "cell_type": "code",
   "execution_count": 51,
   "metadata": {
    "collapsed": false
   },
   "outputs": [
    {
     "data": {
      "image/png": "[encoded data removed]",
      "text/plain": [
       "<matplotlib.figure.Figure at 0x16d903c90>"
      ]
     },
     "metadata": {},
     "output_type": "display_data"
    }
   ],
   "source": [
    "usage_plot(trip_data, 'start_hour', ['start_hour > 6', \"start_city == 'San Francisco'\"], boundary = 0, bin_width = 1)"
   ]
  },
  {
   "cell_type": "markdown",
   "metadata": {},
   "source": [
    "使用上面的函数探索一些不同的变量，并记录你发现的一些趋势。如果你想用其他方式或多个方式探索数据集，可自行创建更多的单元格。\n",
    "\n",
    "\n",
    "> **提示**: 要向 notebook 添加更多单元格，你可以使用上面的菜单栏中的“在上方插入单元格”和“在下方插入单元格”选项。工具栏中也有添加新单元格的图标，以及用于在文档中上下移动单元格的附加图标。默认情况下，新单元格为代码式；你也可以从单元格菜单或工具栏中的下拉菜单中指定单元格类型（代码式或 Markdown）。\n",
    "\n",
    "完成探索后，将你认为最有趣的两个可视化复制到下方的单元格中，然后用几句话回答以下问题，说明你的发现及你选择这些数字的原因。确保调整柱子的数量或限制，使它们有效传达数据发现。可自行用从 `usage_stats()` 中生成的任何额外数字进行补充，或放置多个可视化来支持你的观察。\n"
   ]
  },
  {
   "cell_type": "code",
   "execution_count": 50,
   "metadata": {
    "collapsed": false
   },
   "outputs": [
    {
     "name": "stdout",
     "output_type": "stream",
     "text": [
      "There are 866 data points (0.13%) matching the filter criteria.\n",
      "The average duration of trips is 575.05 minutes.\n",
      "The median trip duration is 55.83 minutes.\n",
      "25% of trips are shorter than 36.93 minutes.\n",
      "25% of trips are longer than 115.15 minutes.\n"
     ]
    },
    {
     "data": {
      "text/plain": [
       "array([  36.92916667,   55.83333333,  115.15      ])"
      ]
     },
     "execution_count": 50,
     "metadata": {},
     "output_type": "execute_result"
    }
   ],
   "source": [
    "# Final Plot 1\n",
    "usage_stats(trip_data, [\"duration > 30\", \"start_city == 'San Francisco'\", \"start_hour > 20\"])"
   ]
  },
  {
   "cell_type": "markdown",
   "metadata": {},
   "source": [
    "**问题 5a**：上述可视化有何有趣之处？你为什么选择它\n",
    "\n",
    "**答案**：\n",
    "我想获得在星期天晚上8点以后San Jose有多少次时长大于30分钟的旅程.\n",
    "数据表示晚上8点以后大于30分钟的很少, 但是有25%的旅程超过了115分钟, 应该是自行车骑行爱好者吧..."
   ]
  },
  {
   "cell_type": "code",
   "execution_count": 52,
   "metadata": {
    "collapsed": false
   },
   "outputs": [
    {
     "data": {
      "image/png": "[encoded data removed]",
      "text/plain": [
       "<matplotlib.figure.Figure at 0x1796fc950>"
      ]
     },
     "metadata": {},
     "output_type": "display_data"
    }
   ],
   "source": [
    "# Final Plot 2\n",
    "usage_plot(trip_data, 'start_hour', ['start_hour > 6', \"start_city == 'San Francisco'\"], boundary = 0, bin_width = 1)"
   ]
  },
  {
   "cell_type": "markdown",
   "metadata": {},
   "source": [
    "**问题 5b**：上述可视化有何有趣之处？你为什么选择它\n",
    "\n",
    "**答案**：\n",
    "我想看到每天不同时间段的旅程次数来比较使用的高峰和低估期.\n",
    "可以看到每天8点到9点和18点到19点是高峰期, 因为是上下班时间."
   ]
  },
  {
   "cell_type": "markdown",
   "metadata": {},
   "source": [
    "## 结论\n",
    "\n",
    "恭喜你完成了此项目！这只是数据分析过程的一个样本：从生成问题、整理数据到探索数据。通常，在数据分析过程的这个点，你可能想要通过执行统计检验或将数据拟合到一个模型进行预测，来对我们的数据得出结论。还有很多可以对数据执行的潜在分析，但仅靠这里所给的有限代码无法完成。除了结果轴上的出行次数，你还可以观察具有影响的其他特征，如行程持续时间。我们还未研究过天气数据与单车使用之间的联系。\n",
    "\n",
    "**问题 6**：思考你可以应用数据科学技术的一个话题或兴趣领域。你希望从所选主题中学到什么？\n",
    "\n",
    "**答案**: 希望可以通过数据分析, 获得由价值的数据信息, 来做出更符合用户的需要, 更有价值的软件.\n",
    "\n",
    "> **提示**：若想与他人分享我们的分析结果，除了向他们提供 jupyter Notebook (.ipynb) 文件的副本外，我们还可以将 Notebook 输出导出为一种甚至那些未安装 Python 的人都能打开的形式。从左上方的“文件”菜单，前往“下载为”子菜单。然后你可以选择一个可以更普遍查看的格式，例如 HTML (.html) 或 PDF (.pdf)。你可能需要额外软件包或软件来执行这些导出。"
   ]
  },
  {
   "cell_type": "code",
   "execution_count": null,
   "metadata": {
    "collapsed": true
   },
   "outputs": [],
   "source": []
  },
  {
   "cell_type": "code",
   "execution_count": null,
   "metadata": {
    "collapsed": true
   },
   "outputs": [],
   "source": []
  }
 ],
 "metadata": {
  "anaconda-cloud": {},
  "kernelspec": {
   "display_name": "Python 2",
   "language": "python",
   "name": "python2"
  },
  "language_info": {
   "codemirror_mode": {
    "name": "ipython",
    "version": 2
   },
   "file_extension": ".py",
   "mimetype": "text/x-python",
   "name": "python",
   "nbconvert_exporter": "python",
   "pygments_lexer": "ipython2",
   "version": "2.7.13"
  }
 },
 "nbformat": 4,
 "nbformat_minor": 0
}
